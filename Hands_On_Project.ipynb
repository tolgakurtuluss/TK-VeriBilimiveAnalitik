{
 "cells": [
  {
   "cell_type": "markdown",
   "id": "1972180c-a81f-431e-a98d-c1f1f300e4e7",
   "metadata": {},
   "source": [
    "# Veri Bilimi ve Analitik Eğitimi : Hands-On Project"
   ]
  },
  {
   "cell_type": "markdown",
   "id": "150ea6fa-3b3c-461c-bb63-373e3c061b61",
   "metadata": {},
   "source": [
    "### Veri hakkında \n",
    "\n",
    "Bu çalışmada kullanılacak olan veriseti The U.S. Department of Transportation (DOT) 'un aşağıdaki link üzerinden paylaşılmış verinin işlenmiş halidir.\n",
    "Verinin tamamına aşağıdaki link üzerinden erişebilirsiniz.\n",
    "\n",
    "[https://www.kaggle.com/usdot/flight-delays](https://www.kaggle.com/usdot/flight-delays)\n",
    "\n",
    "### Veri Sütunlarının Açıklamaları\n",
    "\n",
    "- YEAR : Uçuşun gerçekleştiği yıl\n",
    "- MONTH : Uçuşun gerçekleştiği ay\n",
    "- DAY : Uçuşun gerçekleştiği gün\n",
    "- DAY_OF_WEEK : Uçuşun gerçekleştiği haftanın günü\n",
    "- AIRLINE : Uçuşu yapan havayolu\n",
    "- FLIGHT_NUMBER : Uçuş numarası\n",
    "- TAIL_NUMBER : Uçağın kuyruk numarası\n",
    "- ORIGIN_AIRPORT : Kalkış havaalanı\n",
    "- DESTINATION_AIRPORT : Varış havaalanı\n",
    "- SCHEDULED_DEPARTURE : Planlanan kalkış zamanı\n",
    "- DEPARTURE_TIME : Gerçekleşen kalkış zamanı\n",
    "- DEPARTURE_DELAY : Kalkış esnasında yaşanan gecikme\n",
    "- TAXI_OUT : Taxi pozisyonundan çıkış süresi\n",
    "- WHEELS_OFF : Uçağın tekerleri yerden kesme süresi\n",
    "- SCHEDULED_TIME : Planlanan uçuş süresi\n",
    "- ELAPSED_TIME : Geçen uçuş süresi\n",
    "- AIR_TIME : Uçağın havada kalma süresi\n",
    "- DISTANCE : Kalkış ve varış havaalanları arası uzaklık \n",
    "- WHEELS_ON : Uçağın tekerleri yerden kesme süresi\n",
    "- TAXI_IN : Taxi pozisyonuna giriş süresi\n",
    "- SCHEDULED_ARRIVAL : Planlanan varış süresi\n",
    "- ARRIVAL_TIME : Varış zamanı\n",
    "- ARRIVAL_DELAY : Varışta yaşanan gecikme\n",
    "- DIVERTED : Uçak başka havaalanına divert etti mi\n",
    "- CANCELLED : Uçuş iptal edildi mi\n"
   ]
  },
  {
   "cell_type": "markdown",
   "id": "0b873874-77c8-43ff-8c4a-38dbd0060792",
   "metadata": {},
   "source": [
    "## 1.Soru: Gereken kütüphaneleri ve verisetini okutunuz"
   ]
  },
  {
   "cell_type": "code",
   "execution_count": null,
   "id": "a31f0aff-3acc-4de9-93fd-f8e60bc03112",
   "metadata": {},
   "outputs": [],
   "source": [
    "#Kütüphane tanımlama\n",
    "\n"
   ]
  },
  {
   "cell_type": "code",
   "execution_count": null,
   "id": "906c9d67-f9f6-437f-9fb0-701398ed44fd",
   "metadata": {},
   "outputs": [],
   "source": [
    "#Veriseti Okutma\n",
    "\n"
   ]
  },
  {
   "cell_type": "markdown",
   "id": "6e80fc22-80ce-418a-9095-7c042a2578a4",
   "metadata": {},
   "source": [
    "## 2.Soru: Veriyi inceleme adımlarını uygulayınız"
   ]
  },
  {
   "cell_type": "code",
   "execution_count": null,
   "id": "47b5aac6-a6ce-4293-ae1b-918258a2c107",
   "metadata": {},
   "outputs": [],
   "source": [
    "# Okuttuğunuz verisetinin ilk 20 satırındaki veriyi gösteriniz\n",
    "\n"
   ]
  },
  {
   "cell_type": "code",
   "execution_count": null,
   "id": "f92c10c2-60d0-4a2d-9e84-1e66109ed638",
   "metadata": {},
   "outputs": [],
   "source": [
    "# Okuttuğunuz verisetinin son 10 satırındaki veriyi gösteriniz\n",
    "\n"
   ]
  },
  {
   "cell_type": "code",
   "execution_count": null,
   "id": "9ee371bf-f071-4f1e-ba00-ff9763df4b98",
   "metadata": {},
   "outputs": [],
   "source": [
    "# Verisetindeki sütun isimlerini gösteriniz\n",
    "\n"
   ]
  },
  {
   "cell_type": "code",
   "execution_count": null,
   "id": "d2cb6c08-fecd-4f12-b0f4-6cb68f7ec995",
   "metadata": {},
   "outputs": [],
   "source": [
    "# Verisetindeki \"AIRLINE\" sütunundaki değerlerin sayımını yapınız\n",
    "\n"
   ]
  },
  {
   "cell_type": "code",
   "execution_count": null,
   "id": "8d695dda-5a76-4c5e-894d-26bb04030cca",
   "metadata": {},
   "outputs": [],
   "source": [
    "# Verisetinde eğer varsa NULL değerlerin sayısını hesaplayınız\n",
    "\n"
   ]
  },
  {
   "cell_type": "code",
   "execution_count": null,
   "id": "33bd9bcf-0ff9-4805-a19e-1b61c7a41061",
   "metadata": {},
   "outputs": [],
   "source": [
    "# Verisetindeki \"AIRLINE\",\"DEPARTURE_DELAY\" ve \"ARRIVAL_DELAY\" değişkenlerini kullanarak \"AIRLINE\" değişkenine göre\n",
    "# ortalama değerlerin hesaplandığı gruplandırarak pivot tablo hazırlayınız\n",
    "\n",
    "\n"
   ]
  },
  {
   "cell_type": "code",
   "execution_count": null,
   "id": "77d5aabe-62ea-4eaf-89d8-2fb6ea51bdcd",
   "metadata": {},
   "outputs": [],
   "source": [
    "# Verisetindeki \"AIRLINE\" ve \"CANCELLED\" değişkenlerini kullanarak \"AIRLINE\" değişkenine göre ortalama değerlerin\n",
    "# hesaplandığı gruplandırarak pivot tablo hazırlayınız\n",
    "\n"
   ]
  },
  {
   "cell_type": "markdown",
   "id": "ccab3cd2-aad3-4821-add4-db1fe82be48c",
   "metadata": {},
   "source": [
    "## 3.Soru: Veriyi görselleştirme adımlarını uygulayınız"
   ]
  },
  {
   "cell_type": "code",
   "execution_count": null,
   "id": "73559f0b-9793-42cb-a979-9294c3b495ae",
   "metadata": {},
   "outputs": [],
   "source": [
    "# Seaborn kütüphanesi kullanarak \"DEPARTURE_DELAY\" değerinin x ekseninde olduğu çubuk grafiğini \n",
    "# \"AIRLINE\" değerlerine göre gruplandığı haliyle hazırlayınız\n",
    "\n"
   ]
  },
  {
   "cell_type": "code",
   "execution_count": null,
   "id": "f8ceb2bc-ee50-44d8-9eba-eed1e64d3ba1",
   "metadata": {},
   "outputs": [],
   "source": [
    "# Seaborn kütüphanesi kullanarak \"ARRIVAL_DELAY\" değerinin x ekseninde olduğu çubuk grafiğini \n",
    "# \"DAY_OF_WEEK\" değerlerine göre gruplandığı haliyle hazırlayınız\n",
    "\n"
   ]
  },
  {
   "cell_type": "code",
   "execution_count": null,
   "id": "b17af2b3-666e-43fe-ba05-afcefa15ace0",
   "metadata": {},
   "outputs": [],
   "source": [
    "# Bir önceki adımda hazırladığınız grafiği \"AIRLINE\" değerine göre gruplandırılmış halde hazırlayınız.\n",
    "\n"
   ]
  },
  {
   "cell_type": "code",
   "execution_count": null,
   "id": "e90e2a41-7734-422f-85be-4a577ed344de",
   "metadata": {},
   "outputs": [],
   "source": [
    "# \"AIRLINE\" ve \"ARRIVAL_DELAY\" değişkenlerini kullanarak box-plot grafiğini hazırlayınız\n",
    "\n"
   ]
  },
  {
   "cell_type": "code",
   "execution_count": null,
   "id": "11458b05-74d8-42f6-81b1-3c17254f94da",
   "metadata": {},
   "outputs": [],
   "source": [
    "# \"AIRLINE\" ve \"DEPARTURE_DELAY\" değişkenlerini kullanarak \"CANCELLED\" değişkenine göre gruplandırarak \n",
    "# box-plot grafiğini hazırlayınız\n",
    "\n"
   ]
  },
  {
   "cell_type": "markdown",
   "id": "3b83b7be-a44a-44b0-aa7d-b45cc202df2c",
   "metadata": {},
   "source": [
    "## 4.Soru: Veriyi temizleme ve modellemeye hazırlama adımlarını uygulayınız"
   ]
  },
  {
   "cell_type": "code",
   "execution_count": null,
   "id": "33a863c0-ff48-4ec7-a07d-3c9235765de8",
   "metadata": {},
   "outputs": [],
   "source": [
    "# Modelde kullanılmayacak olan \"YEAR\",\"TAIL_NUMBER\", \"SCHEDULED_DEPARTURE\", \"DEPARTURE_TIME\", \"SCHEDULED_TIME\",\n",
    "# \"SCHEDULED_ARRIVAL\", \"ARRIVAL_TIME\", \"ELAPSED_TIME\", \"TAXI_IN\", \"WHEELS_ON\" \n",
    "# sütunlarını drop ediniz.\n",
    "\n"
   ]
  },
  {
   "cell_type": "code",
   "execution_count": null,
   "id": "8c095f43-87d7-49d4-836f-12536c5e4f39",
   "metadata": {},
   "outputs": [],
   "source": [
    "# CANCELLED\" ve \"DIVERTED\" sütunlarını ayrı ayrı olacak şekilde sadece 0 olan değerleri içeren filtreleme işlemi yapınız.\n",
    "\n"
   ]
  },
  {
   "cell_type": "code",
   "execution_count": null,
   "id": "ef8a1d9d-8676-432a-9da8-41a33bbe745b",
   "metadata": {},
   "outputs": [],
   "source": [
    "# Varsa eksik verilerin sayımını yapınız. Bu adımda hiç eksik veri kalmaması gerekmektedir.\n",
    "\n"
   ]
  },
  {
   "cell_type": "code",
   "execution_count": null,
   "id": "012b7f0e-b0cb-40e9-9e66-752eec28d567",
   "metadata": {},
   "outputs": [],
   "source": [
    "# 'GECIKME' adında yeni bir sütun oluşturup, DEPARTURE_DELAY ve ARRIVAL_DELAY değerlerinin toplamı \n",
    "# eğer 0 dan büyükse 1, 0 dan küçükse 0 olacak şekilde hesaplatınız.\n",
    "## Tüyo: np.where((df['GECIKME'])>0, 1, 0) kodu ile 1-0 durumunu hesaplayabilirsiniz.\n",
    "\n"
   ]
  },
  {
   "cell_type": "code",
   "execution_count": null,
   "id": "ec30806c-32b1-47cd-9c33-b143c6d84d21",
   "metadata": {},
   "outputs": [],
   "source": [
    "# Modelde kullanılmayacak olan DIVERTED, CANCELLED, FLIGHT_NUMBER, DEPARTURE_DELAY, ARRIVAL_DELAY sütunlarını da verisetinden drop ediniz.\n",
    "\n"
   ]
  },
  {
   "cell_type": "code",
   "execution_count": null,
   "id": "ab7ac4ac-b25a-43e0-9af7-39ec865a1052",
   "metadata": {},
   "outputs": [],
   "source": [
    "# Veriyi modellemeden önce son bakış olarak ilk 10 gözlemi gösteriniz\n",
    "\n"
   ]
  },
  {
   "attachments": {
    "0eb717a0-fb72-4d19-b325-73005aee47a6.png": {
     "image/png": "[encoded data removed]"
    }
   },
   "cell_type": "markdown",
   "id": "aa87ba6d-050f-4613-b938-b3680efd74ac",
   "metadata": {},
   "source": [
    "* Eğer tüm adımları tamamlayabildiyseniz, verisetiniz aşağıdaki görseldeki gibi görünecektir. \n",
    "![image.png](attachment:0eb717a0-fb72-4d19-b325-73005aee47a6.png)"
   ]
  },
  {
   "cell_type": "markdown",
   "id": "4768fd8b-a429-40bb-998a-1520f1e7af3a",
   "metadata": {},
   "source": [
    "## 5.Soru: Modelleme adımlarını uygulayınız"
   ]
  },
  {
   "cell_type": "code",
   "execution_count": null,
   "id": "b247b3eb-5bc6-4657-a95e-ffd8c8d469db",
   "metadata": {},
   "outputs": [],
   "source": [
    "# sklearn kütüphanesi üzerinden LabelEncoder fonksiyonunu import ediniz ve label adındaki değişkene atayınız.\n",
    "# Verisetiniz içindeki AIRLINE, ORIGIN_AIRPORT ve DESTINATION_AIRPORT değişkenlerine LabelEncoder transform işlemlerini uygulayınız.\n",
    "\n"
   ]
  },
  {
   "cell_type": "code",
   "execution_count": null,
   "id": "ba9248ea-f4b7-4027-a1de-5a04c7d7ef1e",
   "metadata": {},
   "outputs": [],
   "source": [
    "# sklearn kütüphanesi üzerinden LogisticRegression ve metrics fonksiyonlarını tanımlayınız.\n",
    "\n"
   ]
  },
  {
   "cell_type": "code",
   "execution_count": null,
   "id": "763a9fc0-0b68-4db4-a16c-658977dd19f0",
   "metadata": {},
   "outputs": [],
   "source": [
    "# Guided project üzerinde yapılan işlemlerden yola çıkarak, y ve X değerlerini verisetinizin içindeki GECIKME sütunu için hazırlayınız.\n",
    "\n"
   ]
  },
  {
   "cell_type": "code",
   "execution_count": null,
   "id": "e406c682-aa7b-4eab-ab0e-3bcb1db8fb72",
   "metadata": {},
   "outputs": [],
   "source": [
    "# Verisetinizi modele uygun şekilde train-test olarak ayrabilmek için ilgili fonskiyonları tanımlayınız ve aşağıdaki parametreleri\n",
    "# kullanarak train-test verilerini oluşturunuz. (test_size=0.20 , random_state=1933)\n",
    "\n"
   ]
  },
  {
   "cell_type": "code",
   "execution_count": null,
   "id": "fbfc3368-d0ee-4659-b185-f3ffe7ac88ab",
   "metadata": {},
   "outputs": [],
   "source": [
    "# LogisticRegression adımlarını takip ederek \"Accuracy of logistic regression classifier on test set:\" değerini hesaplayınız.\n",
    "\n"
   ]
  },
  {
   "cell_type": "code",
   "execution_count": null,
   "id": "693859ce-cb17-42b4-8150-f446e400218b",
   "metadata": {},
   "outputs": [],
   "source": [
    "#Son adım olarak classification_report fonksiyonunu import ederek kurduğunuz modelin sonuçlarını gösteriniz.\n",
    "\n"
   ]
  },
  {
   "cell_type": "markdown",
   "id": "b21a2650-f493-481a-9f52-1d471d17d0e3",
   "metadata": {},
   "source": [
    "## Eğitime katılımınız için teşekkür ederiz. 😎✈️"
   ]
  }
 ],
 "metadata": {
  "kernelspec": {
   "display_name": "Python 3",
   "language": "python",
   "name": "python3"
  },
  "language_info": {
   "codemirror_mode": {
    "name": "ipython",
    "version": 3
   },
   "file_extension": ".py",
   "mimetype": "text/x-python",
   "name": "python",
   "nbconvert_exporter": "python",
   "pygments_lexer": "ipython3",
   "version": "3.7.8"
  }
 },
 "nbformat": 4,
 "nbformat_minor": 5
}
